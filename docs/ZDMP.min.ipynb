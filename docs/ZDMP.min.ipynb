{
  "nbformat": 4,
  "nbformat_minor": 0,
  "metadata": {
    "colab": {
      "provenance": [],
      "toc_visible": true
    },
    "kernelspec": {
      "name": "python3",
      "display_name": "Python 3"
    },
    "language_info": {
      "name": "python"
    }
  },
  "cells": [
    {
      "cell_type": "markdown",
      "source": [
        "# ZDMP\n",
        "\n",
        "Project from [https://github.com/ZhengLinLei/ZDMP](https://github.com/ZhengLinLei/ZDMP)\n",
        "\n",
        "![License](https://img.shields.io/badge/License-Apache%202.0-green)\n"
      ],
      "metadata": {
        "id": "IG7VlBsqPAW9"
      }
    },
    {
      "cell_type": "markdown",
      "source": [
        "## Load Datasets\n",
        "\n",
        "Load the .csv dataset from [GitHub Repository](https://github.com/ZhengLinLei/ZDMP-datasets)\n",
        "\n",
        "RAW: [.csv](https://media.githubusercontent.com/media/ZhengLinLei/ZDMP-datasets/main/batch_data.csv)\n",
        "\n"
      ],
      "metadata": {
        "id": "38XcNxKjPHED"
      }
    },
    {
      "cell_type": "code",
      "source": [
        "import pandas as pd\n",
        "import numpy as np\n",
        "\n",
        "df = pd.read_csv('https://media.githubusercontent.com/media/ZhengLinLei/ZDMP-datasets/main/batch_data.csv')\n",
        "\n",
        "# Remove all not Number item row\n",
        "df = df[np.isfinite(df).all(1)]"
      ],
      "metadata": {
        "id": "JyreVfQXPRYl"
      },
      "execution_count": null,
      "outputs": []
    },
    {
      "cell_type": "markdown",
      "source": [
        "## Prepare data\n"
      ],
      "metadata": {
        "id": "cxsgcHwxdWkh"
      }
    },
    {
      "cell_type": "markdown",
      "source": [
        "### X and Y\n",
        "\n",
        "Separate all .csv table data into X and Y. The result data is located in `realiability` column."
      ],
      "metadata": {
        "id": "XNV_Pbytnmdq"
      }
    },
    {
      "cell_type": "code",
      "source": [
        "Y = df['reliability']\n",
        "X = df.drop('reliability', axis=1)"
      ],
      "metadata": {
        "id": "ZZ6Hq7iXdcK7"
      },
      "execution_count": null,
      "outputs": []
    },
    {
      "cell_type": "markdown",
      "source": [
        "### Split data\n",
        "\n",
        "In this proccess we are going to split the data into two parts `training data` (80%) and `testing data` (20%). That's why we use the parameter `test_size=0.2` and `random_state=42` to set a seed that we use to shuffle our data.\n",
        "\n"
      ],
      "metadata": {
        "id": "2tHGhIeodv6O"
      }
    },
    {
      "cell_type": "code",
      "source": [
        "from sklearn.model_selection import train_test_split\n",
        "\n",
        "# Split the data into four data variables: Training(x,y), Testing(x,y)\n",
        "\n",
        "X_train, X_test, Y_train, Y_test = train_test_split(X, Y, test_size=0.2, random_state=42)"
      ],
      "metadata": {
        "id": "AAHI78YSdyPx"
      },
      "execution_count": null,
      "outputs": []
    },
    {
      "cell_type": "code",
      "source": [
        "X_train"
      ],
      "metadata": {
        "colab": {
          "base_uri": "https://localhost:8080/",
          "height": 500
        },
        "id": "xuGeu4C2p9e1",
        "outputId": "c0726c97-37a3-420b-a798-37a0bfe28fd6"
      },
      "execution_count": null,
      "outputs": [
        {
          "output_type": "execute_result",
          "data": {
            "text/plain": [
              "       ID V1  ID V10  ID V11  ID V12  ID V13  ID V14  ID V15  ID V16  ID V17  \\\n",
              "20126      1      56     119     696     367     438      17     742     521   \n",
              "36646      1      54     123     693     368     469      18     733     530   \n",
              "19385      1      61     133     684     367     437      18     720     509   \n",
              "27012      1      63     124     680     368     459      18     731     532   \n",
              "40808      1      56     121     693     368     467      19     734     528   \n",
              "...      ...     ...     ...     ...     ...     ...     ...     ...     ...   \n",
              "6467       1      56     119     693     368     466      18     726     526   \n",
              "11650      1      58     115     693     366     467      18     733     526   \n",
              "39396      1      55     162     712     369     471      17     736     509   \n",
              "886        1      60     158     740     366     474      17     746     523   \n",
              "16311      1      61     117     683     370     438      17     745     524   \n",
              "\n",
              "       ID V18  ...    CV V5    CV V6  CV V7    CV V8    CV V9  CV V10  \\\n",
              "20126     360  ...  28.2208  59.4618    0.0  26.8645  58.9193     0.0   \n",
              "36646     360  ...  29.4416  63.8925    0.0  30.8883  63.3048     0.0   \n",
              "19385     360  ...  28.4921  58.5576    0.0  27.5879  58.0150     0.0   \n",
              "27012     360  ...  28.2208  56.5231    0.0  26.3672  56.0257     0.0   \n",
              "40808     360  ...  20.4445  71.2619    0.0  19.9020  70.5838     0.0   \n",
              "...       ...  ...      ...      ...    ...      ...      ...     ...   \n",
              "6467      360  ...  29.3963  59.1453    0.0  27.7687  58.6028     0.0   \n",
              "11650     360  ...  27.5879  57.2012    0.0  26.1411  56.7039     0.0   \n",
              "39396     360  ...  31.2952  54.6694    0.0  36.6754  54.1721     0.0   \n",
              "886       360  ...  28.4017  55.6189    0.0  27.3166  55.0763     0.0   \n",
              "16311     360  ...  28.1304  60.9086    0.0  26.8193  60.3660     0.0   \n",
              "\n",
              "        CV V11   CV V12  CV V13  IMP Paso  \n",
              "20126  36.5849  595.983     0.0         0  \n",
              "36646  61.7224  941.714     0.0         0  \n",
              "19385  34.1435  622.432     0.0         0  \n",
              "27012  45.4915  506.917     0.0         0  \n",
              "40808  25.6890  916.395     0.0         0  \n",
              "...        ...      ...     ...       ...  \n",
              "6467   38.2577  575.684     0.0         0  \n",
              "11650  48.5659  307.581     0.0         0  \n",
              "39396  43.1405  828.505     0.0         0  \n",
              "886    45.4463  356.545     0.0         0  \n",
              "16311  37.4891  767.831     0.0         0  \n",
              "\n",
              "[32112 rows x 978 columns]"
            ],
            "text/html": [
              "\n",
              "  <div id=\"df-584560d2-b66f-4458-bd35-32e1e96ca073\">\n",
              "    <div class=\"colab-df-container\">\n",
              "      <div>\n",
              "<style scoped>\n",
              "    .dataframe tbody tr th:only-of-type {\n",
              "        vertical-align: middle;\n",
              "    }\n",
              "\n",
              "    .dataframe tbody tr th {\n",
              "        vertical-align: top;\n",
              "    }\n",
              "\n",
              "    .dataframe thead th {\n",
              "        text-align: right;\n",
              "    }\n",
              "</style>\n",
              "<table border=\"1\" class=\"dataframe\">\n",
              "  <thead>\n",
              "    <tr style=\"text-align: right;\">\n",
              "      <th></th>\n",
              "      <th>ID V1</th>\n",
              "      <th>ID V10</th>\n",
              "      <th>ID V11</th>\n",
              "      <th>ID V12</th>\n",
              "      <th>ID V13</th>\n",
              "      <th>ID V14</th>\n",
              "      <th>ID V15</th>\n",
              "      <th>ID V16</th>\n",
              "      <th>ID V17</th>\n",
              "      <th>ID V18</th>\n",
              "      <th>...</th>\n",
              "      <th>CV V5</th>\n",
              "      <th>CV V6</th>\n",
              "      <th>CV V7</th>\n",
              "      <th>CV V8</th>\n",
              "      <th>CV V9</th>\n",
              "      <th>CV V10</th>\n",
              "      <th>CV V11</th>\n",
              "      <th>CV V12</th>\n",
              "      <th>CV V13</th>\n",
              "      <th>IMP Paso</th>\n",
              "    </tr>\n",
              "  </thead>\n",
              "  <tbody>\n",
              "    <tr>\n",
              "      <th>20126</th>\n",
              "      <td>1</td>\n",
              "      <td>56</td>\n",
              "      <td>119</td>\n",
              "      <td>696</td>\n",
              "      <td>367</td>\n",
              "      <td>438</td>\n",
              "      <td>17</td>\n",
              "      <td>742</td>\n",
              "      <td>521</td>\n",
              "      <td>360</td>\n",
              "      <td>...</td>\n",
              "      <td>28.2208</td>\n",
              "      <td>59.4618</td>\n",
              "      <td>0.0</td>\n",
              "      <td>26.8645</td>\n",
              "      <td>58.9193</td>\n",
              "      <td>0.0</td>\n",
              "      <td>36.5849</td>\n",
              "      <td>595.983</td>\n",
              "      <td>0.0</td>\n",
              "      <td>0</td>\n",
              "    </tr>\n",
              "    <tr>\n",
              "      <th>36646</th>\n",
              "      <td>1</td>\n",
              "      <td>54</td>\n",
              "      <td>123</td>\n",
              "      <td>693</td>\n",
              "      <td>368</td>\n",
              "      <td>469</td>\n",
              "      <td>18</td>\n",
              "      <td>733</td>\n",
              "      <td>530</td>\n",
              "      <td>360</td>\n",
              "      <td>...</td>\n",
              "      <td>29.4416</td>\n",
              "      <td>63.8925</td>\n",
              "      <td>0.0</td>\n",
              "      <td>30.8883</td>\n",
              "      <td>63.3048</td>\n",
              "      <td>0.0</td>\n",
              "      <td>61.7224</td>\n",
              "      <td>941.714</td>\n",
              "      <td>0.0</td>\n",
              "      <td>0</td>\n",
              "    </tr>\n",
              "    <tr>\n",
              "      <th>19385</th>\n",
              "      <td>1</td>\n",
              "      <td>61</td>\n",
              "      <td>133</td>\n",
              "      <td>684</td>\n",
              "      <td>367</td>\n",
              "      <td>437</td>\n",
              "      <td>18</td>\n",
              "      <td>720</td>\n",
              "      <td>509</td>\n",
              "      <td>360</td>\n",
              "      <td>...</td>\n",
              "      <td>28.4921</td>\n",
              "      <td>58.5576</td>\n",
              "      <td>0.0</td>\n",
              "      <td>27.5879</td>\n",
              "      <td>58.0150</td>\n",
              "      <td>0.0</td>\n",
              "      <td>34.1435</td>\n",
              "      <td>622.432</td>\n",
              "      <td>0.0</td>\n",
              "      <td>0</td>\n",
              "    </tr>\n",
              "    <tr>\n",
              "      <th>27012</th>\n",
              "      <td>1</td>\n",
              "      <td>63</td>\n",
              "      <td>124</td>\n",
              "      <td>680</td>\n",
              "      <td>368</td>\n",
              "      <td>459</td>\n",
              "      <td>18</td>\n",
              "      <td>731</td>\n",
              "      <td>532</td>\n",
              "      <td>360</td>\n",
              "      <td>...</td>\n",
              "      <td>28.2208</td>\n",
              "      <td>56.5231</td>\n",
              "      <td>0.0</td>\n",
              "      <td>26.3672</td>\n",
              "      <td>56.0257</td>\n",
              "      <td>0.0</td>\n",
              "      <td>45.4915</td>\n",
              "      <td>506.917</td>\n",
              "      <td>0.0</td>\n",
              "      <td>0</td>\n",
              "    </tr>\n",
              "    <tr>\n",
              "      <th>40808</th>\n",
              "      <td>1</td>\n",
              "      <td>56</td>\n",
              "      <td>121</td>\n",
              "      <td>693</td>\n",
              "      <td>368</td>\n",
              "      <td>467</td>\n",
              "      <td>19</td>\n",
              "      <td>734</td>\n",
              "      <td>528</td>\n",
              "      <td>360</td>\n",
              "      <td>...</td>\n",
              "      <td>20.4445</td>\n",
              "      <td>71.2619</td>\n",
              "      <td>0.0</td>\n",
              "      <td>19.9020</td>\n",
              "      <td>70.5838</td>\n",
              "      <td>0.0</td>\n",
              "      <td>25.6890</td>\n",
              "      <td>916.395</td>\n",
              "      <td>0.0</td>\n",
              "      <td>0</td>\n",
              "    </tr>\n",
              "    <tr>\n",
              "      <th>...</th>\n",
              "      <td>...</td>\n",
              "      <td>...</td>\n",
              "      <td>...</td>\n",
              "      <td>...</td>\n",
              "      <td>...</td>\n",
              "      <td>...</td>\n",
              "      <td>...</td>\n",
              "      <td>...</td>\n",
              "      <td>...</td>\n",
              "      <td>...</td>\n",
              "      <td>...</td>\n",
              "      <td>...</td>\n",
              "      <td>...</td>\n",
              "      <td>...</td>\n",
              "      <td>...</td>\n",
              "      <td>...</td>\n",
              "      <td>...</td>\n",
              "      <td>...</td>\n",
              "      <td>...</td>\n",
              "      <td>...</td>\n",
              "      <td>...</td>\n",
              "    </tr>\n",
              "    <tr>\n",
              "      <th>6467</th>\n",
              "      <td>1</td>\n",
              "      <td>56</td>\n",
              "      <td>119</td>\n",
              "      <td>693</td>\n",
              "      <td>368</td>\n",
              "      <td>466</td>\n",
              "      <td>18</td>\n",
              "      <td>726</td>\n",
              "      <td>526</td>\n",
              "      <td>360</td>\n",
              "      <td>...</td>\n",
              "      <td>29.3963</td>\n",
              "      <td>59.1453</td>\n",
              "      <td>0.0</td>\n",
              "      <td>27.7687</td>\n",
              "      <td>58.6028</td>\n",
              "      <td>0.0</td>\n",
              "      <td>38.2577</td>\n",
              "      <td>575.684</td>\n",
              "      <td>0.0</td>\n",
              "      <td>0</td>\n",
              "    </tr>\n",
              "    <tr>\n",
              "      <th>11650</th>\n",
              "      <td>1</td>\n",
              "      <td>58</td>\n",
              "      <td>115</td>\n",
              "      <td>693</td>\n",
              "      <td>366</td>\n",
              "      <td>467</td>\n",
              "      <td>18</td>\n",
              "      <td>733</td>\n",
              "      <td>526</td>\n",
              "      <td>360</td>\n",
              "      <td>...</td>\n",
              "      <td>27.5879</td>\n",
              "      <td>57.2012</td>\n",
              "      <td>0.0</td>\n",
              "      <td>26.1411</td>\n",
              "      <td>56.7039</td>\n",
              "      <td>0.0</td>\n",
              "      <td>48.5659</td>\n",
              "      <td>307.581</td>\n",
              "      <td>0.0</td>\n",
              "      <td>0</td>\n",
              "    </tr>\n",
              "    <tr>\n",
              "      <th>39396</th>\n",
              "      <td>1</td>\n",
              "      <td>55</td>\n",
              "      <td>162</td>\n",
              "      <td>712</td>\n",
              "      <td>369</td>\n",
              "      <td>471</td>\n",
              "      <td>17</td>\n",
              "      <td>736</td>\n",
              "      <td>509</td>\n",
              "      <td>360</td>\n",
              "      <td>...</td>\n",
              "      <td>31.2952</td>\n",
              "      <td>54.6694</td>\n",
              "      <td>0.0</td>\n",
              "      <td>36.6754</td>\n",
              "      <td>54.1721</td>\n",
              "      <td>0.0</td>\n",
              "      <td>43.1405</td>\n",
              "      <td>828.505</td>\n",
              "      <td>0.0</td>\n",
              "      <td>0</td>\n",
              "    </tr>\n",
              "    <tr>\n",
              "      <th>886</th>\n",
              "      <td>1</td>\n",
              "      <td>60</td>\n",
              "      <td>158</td>\n",
              "      <td>740</td>\n",
              "      <td>366</td>\n",
              "      <td>474</td>\n",
              "      <td>17</td>\n",
              "      <td>746</td>\n",
              "      <td>523</td>\n",
              "      <td>360</td>\n",
              "      <td>...</td>\n",
              "      <td>28.4017</td>\n",
              "      <td>55.6189</td>\n",
              "      <td>0.0</td>\n",
              "      <td>27.3166</td>\n",
              "      <td>55.0763</td>\n",
              "      <td>0.0</td>\n",
              "      <td>45.4463</td>\n",
              "      <td>356.545</td>\n",
              "      <td>0.0</td>\n",
              "      <td>0</td>\n",
              "    </tr>\n",
              "    <tr>\n",
              "      <th>16311</th>\n",
              "      <td>1</td>\n",
              "      <td>61</td>\n",
              "      <td>117</td>\n",
              "      <td>683</td>\n",
              "      <td>370</td>\n",
              "      <td>438</td>\n",
              "      <td>17</td>\n",
              "      <td>745</td>\n",
              "      <td>524</td>\n",
              "      <td>360</td>\n",
              "      <td>...</td>\n",
              "      <td>28.1304</td>\n",
              "      <td>60.9086</td>\n",
              "      <td>0.0</td>\n",
              "      <td>26.8193</td>\n",
              "      <td>60.3660</td>\n",
              "      <td>0.0</td>\n",
              "      <td>37.4891</td>\n",
              "      <td>767.831</td>\n",
              "      <td>0.0</td>\n",
              "      <td>0</td>\n",
              "    </tr>\n",
              "  </tbody>\n",
              "</table>\n",
              "<p>32112 rows × 978 columns</p>\n",
              "</div>\n",
              "      <button class=\"colab-df-convert\" onclick=\"convertToInteractive('df-584560d2-b66f-4458-bd35-32e1e96ca073')\"\n",
              "              title=\"Convert this dataframe to an interactive table.\"\n",
              "              style=\"display:none;\">\n",
              "        \n",
              "  <svg xmlns=\"http://www.w3.org/2000/svg\" height=\"24px\"viewBox=\"0 0 24 24\"\n",
              "       width=\"24px\">\n",
              "    <path d=\"M0 0h24v24H0V0z\" fill=\"none\"/>\n",
              "    <path d=\"M18.56 5.44l.94 2.06.94-2.06 2.06-.94-2.06-.94-.94-2.06-.94 2.06-2.06.94zm-11 1L8.5 8.5l.94-2.06 2.06-.94-2.06-.94L8.5 2.5l-.94 2.06-2.06.94zm10 10l.94 2.06.94-2.06 2.06-.94-2.06-.94-.94-2.06-.94 2.06-2.06.94z\"/><path d=\"M17.41 7.96l-1.37-1.37c-.4-.4-.92-.59-1.43-.59-.52 0-1.04.2-1.43.59L10.3 9.45l-7.72 7.72c-.78.78-.78 2.05 0 2.83L4 21.41c.39.39.9.59 1.41.59.51 0 1.02-.2 1.41-.59l7.78-7.78 2.81-2.81c.8-.78.8-2.07 0-2.86zM5.41 20L4 18.59l7.72-7.72 1.47 1.35L5.41 20z\"/>\n",
              "  </svg>\n",
              "      </button>\n",
              "      \n",
              "  <style>\n",
              "    .colab-df-container {\n",
              "      display:flex;\n",
              "      flex-wrap:wrap;\n",
              "      gap: 12px;\n",
              "    }\n",
              "\n",
              "    .colab-df-convert {\n",
              "      background-color: #E8F0FE;\n",
              "      border: none;\n",
              "      border-radius: 50%;\n",
              "      cursor: pointer;\n",
              "      display: none;\n",
              "      fill: #1967D2;\n",
              "      height: 32px;\n",
              "      padding: 0 0 0 0;\n",
              "      width: 32px;\n",
              "    }\n",
              "\n",
              "    .colab-df-convert:hover {\n",
              "      background-color: #E2EBFA;\n",
              "      box-shadow: 0px 1px 2px rgba(60, 64, 67, 0.3), 0px 1px 3px 1px rgba(60, 64, 67, 0.15);\n",
              "      fill: #174EA6;\n",
              "    }\n",
              "\n",
              "    [theme=dark] .colab-df-convert {\n",
              "      background-color: #3B4455;\n",
              "      fill: #D2E3FC;\n",
              "    }\n",
              "\n",
              "    [theme=dark] .colab-df-convert:hover {\n",
              "      background-color: #434B5C;\n",
              "      box-shadow: 0px 1px 3px 1px rgba(0, 0, 0, 0.15);\n",
              "      filter: drop-shadow(0px 1px 2px rgba(0, 0, 0, 0.3));\n",
              "      fill: #FFFFFF;\n",
              "    }\n",
              "  </style>\n",
              "\n",
              "      <script>\n",
              "        const buttonEl =\n",
              "          document.querySelector('#df-584560d2-b66f-4458-bd35-32e1e96ca073 button.colab-df-convert');\n",
              "        buttonEl.style.display =\n",
              "          google.colab.kernel.accessAllowed ? 'block' : 'none';\n",
              "\n",
              "        async function convertToInteractive(key) {\n",
              "          const element = document.querySelector('#df-584560d2-b66f-4458-bd35-32e1e96ca073');\n",
              "          const dataTable =\n",
              "            await google.colab.kernel.invokeFunction('convertToInteractive',\n",
              "                                                     [key], {});\n",
              "          if (!dataTable) return;\n",
              "\n",
              "          const docLinkHtml = 'Like what you see? Visit the ' +\n",
              "            '<a target=\"_blank\" href=https://colab.research.google.com/notebooks/data_table.ipynb>data table notebook</a>'\n",
              "            + ' to learn more about interactive tables.';\n",
              "          element.innerHTML = '';\n",
              "          dataTable['output_type'] = 'display_data';\n",
              "          await google.colab.output.renderOutput(dataTable, element);\n",
              "          const docLink = document.createElement('div');\n",
              "          docLink.innerHTML = docLinkHtml;\n",
              "          element.appendChild(docLink);\n",
              "        }\n",
              "      </script>\n",
              "    </div>\n",
              "  </div>\n",
              "  "
            ]
          },
          "metadata": {},
          "execution_count": 4
        }
      ]
    },
    {
      "cell_type": "code",
      "source": [
        "Y_train"
      ],
      "metadata": {
        "colab": {
          "base_uri": "https://localhost:8080/"
        },
        "id": "vdxfj7ycqXU6",
        "outputId": "1c316c40-130e-49de-b084-4f716b06887a"
      },
      "execution_count": null,
      "outputs": [
        {
          "output_type": "execute_result",
          "data": {
            "text/plain": [
              "20126    0.626774\n",
              "36646    0.628032\n",
              "19385    0.626774\n",
              "27012    0.591375\n",
              "40808    0.612040\n",
              "           ...   \n",
              "6467     0.351662\n",
              "11650    1.000000\n",
              "39396    0.642767\n",
              "886      0.770710\n",
              "16311    0.626774\n",
              "Name: reliability, Length: 32112, dtype: float64"
            ]
          },
          "metadata": {},
          "execution_count": 5
        }
      ]
    },
    {
      "cell_type": "markdown",
      "source": [
        "## Model training"
      ],
      "metadata": {
        "id": "M5WbfqwifROe"
      }
    },
    {
      "cell_type": "markdown",
      "source": [
        "### K-Nearest Neighbors"
      ],
      "metadata": {
        "id": "eX_hQCx_iqJ5"
      }
    },
    {
      "cell_type": "markdown",
      "source": [
        "#### Training the model"
      ],
      "metadata": {
        "id": "b_QWK_lRizLA"
      }
    },
    {
      "cell_type": "code",
      "source": [
        "from sklearn.neighbors import KNeighborsRegressor\n",
        "\n",
        "kn = KNeighborsRegressor(n_neighbors=1)\n",
        "kn.fit(X_train, Y_train)"
      ],
      "metadata": {
        "colab": {
          "base_uri": "https://localhost:8080/"
        },
        "id": "P4jn7ljEi20j",
        "outputId": "b00e8c9b-f489-4227-8bb2-ece8e606ef8c"
      },
      "execution_count": null,
      "outputs": [
        {
          "output_type": "execute_result",
          "data": {
            "text/plain": [
              "KNeighborsRegressor(n_neighbors=1)"
            ]
          },
          "metadata": {},
          "execution_count": 19
        }
      ]
    },
    {
      "cell_type": "markdown",
      "source": [
        "#### Aplying the model to make a prediction"
      ],
      "metadata": {
        "id": "-rMcmqsfjZKf"
      }
    },
    {
      "cell_type": "code",
      "source": [
        "Y_kn_train_pred = kn.predict(X_train)\n",
        "Y_kn_test_pred = kn.predict(X_test)"
      ],
      "metadata": {
        "id": "1EvhUocDjeAV"
      },
      "execution_count": null,
      "outputs": []
    },
    {
      "cell_type": "markdown",
      "source": [
        "#### Evaluate model perfomance"
      ],
      "metadata": {
        "id": "A4sp82ZijlWN"
      }
    },
    {
      "cell_type": "code",
      "source": [
        "from sklearn.metrics import mean_squared_error, r2_score\n",
        "\n",
        "kn_train_mse = mean_squared_error(Y_train, Y_kn_train_pred)\n",
        "kn_train_r2 = r2_score(Y_train, Y_kn_train_pred)\n",
        "\n",
        "kn_test_mse = mean_squared_error(Y_test, Y_kn_test_pred)\n",
        "kn_test_r2 = r2_score(Y_test, Y_kn_test_pred)"
      ],
      "metadata": {
        "id": "rIiWYAzjjp7G"
      },
      "execution_count": null,
      "outputs": []
    },
    {
      "cell_type": "code",
      "source": [
        "kn_results = pd.DataFrame(['K-Nearest Neighbors', kn_train_mse, kn_train_r2, kn_test_mse, kn_test_r2]).transpose()\n",
        "kn_results.columns = ['Method', 'Training MSE', 'Training R2', 'Test MSE', 'Test R2']"
      ],
      "metadata": {
        "id": "u008Z399j6wv"
      },
      "execution_count": null,
      "outputs": []
    },
    {
      "cell_type": "code",
      "source": [
        "kn_results"
      ],
      "metadata": {
        "colab": {
          "base_uri": "https://localhost:8080/",
          "height": 80
        },
        "id": "E0sL_QaykD6n",
        "outputId": "0ea486fc-6333-43a4-d1de-2853bf0f5c2d"
      },
      "execution_count": null,
      "outputs": [
        {
          "output_type": "execute_result",
          "data": {
            "text/plain": [
              "                Method Training MSE Training R2  Test MSE   Test R2\n",
              "0  K-Nearest Neighbors     0.000056    0.999266  0.014994  0.801152"
            ],
            "text/html": [
              "\n",
              "  <div id=\"df-bed3aec0-ac63-44f0-8391-dbf4d42afe03\">\n",
              "    <div class=\"colab-df-container\">\n",
              "      <div>\n",
              "<style scoped>\n",
              "    .dataframe tbody tr th:only-of-type {\n",
              "        vertical-align: middle;\n",
              "    }\n",
              "\n",
              "    .dataframe tbody tr th {\n",
              "        vertical-align: top;\n",
              "    }\n",
              "\n",
              "    .dataframe thead th {\n",
              "        text-align: right;\n",
              "    }\n",
              "</style>\n",
              "<table border=\"1\" class=\"dataframe\">\n",
              "  <thead>\n",
              "    <tr style=\"text-align: right;\">\n",
              "      <th></th>\n",
              "      <th>Method</th>\n",
              "      <th>Training MSE</th>\n",
              "      <th>Training R2</th>\n",
              "      <th>Test MSE</th>\n",
              "      <th>Test R2</th>\n",
              "    </tr>\n",
              "  </thead>\n",
              "  <tbody>\n",
              "    <tr>\n",
              "      <th>0</th>\n",
              "      <td>K-Nearest Neighbors</td>\n",
              "      <td>0.000056</td>\n",
              "      <td>0.999266</td>\n",
              "      <td>0.014994</td>\n",
              "      <td>0.801152</td>\n",
              "    </tr>\n",
              "  </tbody>\n",
              "</table>\n",
              "</div>\n",
              "      <button class=\"colab-df-convert\" onclick=\"convertToInteractive('df-bed3aec0-ac63-44f0-8391-dbf4d42afe03')\"\n",
              "              title=\"Convert this dataframe to an interactive table.\"\n",
              "              style=\"display:none;\">\n",
              "        \n",
              "  <svg xmlns=\"http://www.w3.org/2000/svg\" height=\"24px\"viewBox=\"0 0 24 24\"\n",
              "       width=\"24px\">\n",
              "    <path d=\"M0 0h24v24H0V0z\" fill=\"none\"/>\n",
              "    <path d=\"M18.56 5.44l.94 2.06.94-2.06 2.06-.94-2.06-.94-.94-2.06-.94 2.06-2.06.94zm-11 1L8.5 8.5l.94-2.06 2.06-.94-2.06-.94L8.5 2.5l-.94 2.06-2.06.94zm10 10l.94 2.06.94-2.06 2.06-.94-2.06-.94-.94-2.06-.94 2.06-2.06.94z\"/><path d=\"M17.41 7.96l-1.37-1.37c-.4-.4-.92-.59-1.43-.59-.52 0-1.04.2-1.43.59L10.3 9.45l-7.72 7.72c-.78.78-.78 2.05 0 2.83L4 21.41c.39.39.9.59 1.41.59.51 0 1.02-.2 1.41-.59l7.78-7.78 2.81-2.81c.8-.78.8-2.07 0-2.86zM5.41 20L4 18.59l7.72-7.72 1.47 1.35L5.41 20z\"/>\n",
              "  </svg>\n",
              "      </button>\n",
              "      \n",
              "  <style>\n",
              "    .colab-df-container {\n",
              "      display:flex;\n",
              "      flex-wrap:wrap;\n",
              "      gap: 12px;\n",
              "    }\n",
              "\n",
              "    .colab-df-convert {\n",
              "      background-color: #E8F0FE;\n",
              "      border: none;\n",
              "      border-radius: 50%;\n",
              "      cursor: pointer;\n",
              "      display: none;\n",
              "      fill: #1967D2;\n",
              "      height: 32px;\n",
              "      padding: 0 0 0 0;\n",
              "      width: 32px;\n",
              "    }\n",
              "\n",
              "    .colab-df-convert:hover {\n",
              "      background-color: #E2EBFA;\n",
              "      box-shadow: 0px 1px 2px rgba(60, 64, 67, 0.3), 0px 1px 3px 1px rgba(60, 64, 67, 0.15);\n",
              "      fill: #174EA6;\n",
              "    }\n",
              "\n",
              "    [theme=dark] .colab-df-convert {\n",
              "      background-color: #3B4455;\n",
              "      fill: #D2E3FC;\n",
              "    }\n",
              "\n",
              "    [theme=dark] .colab-df-convert:hover {\n",
              "      background-color: #434B5C;\n",
              "      box-shadow: 0px 1px 3px 1px rgba(0, 0, 0, 0.15);\n",
              "      filter: drop-shadow(0px 1px 2px rgba(0, 0, 0, 0.3));\n",
              "      fill: #FFFFFF;\n",
              "    }\n",
              "  </style>\n",
              "\n",
              "      <script>\n",
              "        const buttonEl =\n",
              "          document.querySelector('#df-bed3aec0-ac63-44f0-8391-dbf4d42afe03 button.colab-df-convert');\n",
              "        buttonEl.style.display =\n",
              "          google.colab.kernel.accessAllowed ? 'block' : 'none';\n",
              "\n",
              "        async function convertToInteractive(key) {\n",
              "          const element = document.querySelector('#df-bed3aec0-ac63-44f0-8391-dbf4d42afe03');\n",
              "          const dataTable =\n",
              "            await google.colab.kernel.invokeFunction('convertToInteractive',\n",
              "                                                     [key], {});\n",
              "          if (!dataTable) return;\n",
              "\n",
              "          const docLinkHtml = 'Like what you see? Visit the ' +\n",
              "            '<a target=\"_blank\" href=https://colab.research.google.com/notebooks/data_table.ipynb>data table notebook</a>'\n",
              "            + ' to learn more about interactive tables.';\n",
              "          element.innerHTML = '';\n",
              "          dataTable['output_type'] = 'display_data';\n",
              "          await google.colab.output.renderOutput(dataTable, element);\n",
              "          const docLink = document.createElement('div');\n",
              "          docLink.innerHTML = docLinkHtml;\n",
              "          element.appendChild(docLink);\n",
              "        }\n",
              "      </script>\n",
              "    </div>\n",
              "  </div>\n",
              "  "
            ]
          },
          "metadata": {},
          "execution_count": 23
        }
      ]
    }
  ]
}